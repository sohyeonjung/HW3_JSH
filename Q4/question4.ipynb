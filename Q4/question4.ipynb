{
 "cells": [
  {
   "cell_type": "code",
   "execution_count": 3,
   "id": "4b3e6b94",
   "metadata": {},
   "outputs": [
    {
     "name": "stdout",
     "output_type": "stream",
     "text": [
      "Factorial of 0 : 1\n",
      "Factorial of 2 : 2\n",
      "Factorial of 4 : 24\n",
      "Factorial of 6 : 720\n",
      "Factorial of 8 : 40320\n",
      "Factorial of 10 : 3628800\n",
      "Factorial of 12 : 479001600\n",
      "Factorial of 14 : 87178291200\n"
     ]
    }
   ],
   "source": [
    "def fac(num):\n",
    "    if num == 0:\n",
    "        return 1\n",
    "    if num == 1:      \n",
    "        return 1    \n",
    "    return num * fac(num - 1)        \n",
    "\n",
    "def main():\n",
    "    for i in range(0, 15):\n",
    "        if((i%2)==0):\n",
    "            print(\"Factorial of\", i, \":\",fac(i))\n",
    "   \n",
    " \n",
    "if __name__ == '__main__':\n",
    "    main()"
   ]
  },
  {
   "cell_type": "code",
   "execution_count": null,
   "id": "0a4a6e26",
   "metadata": {},
   "outputs": [],
   "source": []
  },
  {
   "cell_type": "code",
   "execution_count": null,
   "id": "9359c963",
   "metadata": {},
   "outputs": [],
   "source": []
  }
 ],
 "metadata": {
  "kernelspec": {
   "display_name": "Python 3 (ipykernel)",
   "language": "python",
   "name": "python3"
  },
  "language_info": {
   "codemirror_mode": {
    "name": "ipython",
    "version": 3
   },
   "file_extension": ".py",
   "mimetype": "text/x-python",
   "name": "python",
   "nbconvert_exporter": "python",
   "pygments_lexer": "ipython3",
   "version": "3.9.12"
  }
 },
 "nbformat": 4,
 "nbformat_minor": 5
}
