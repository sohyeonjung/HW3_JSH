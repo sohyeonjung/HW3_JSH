{
 "cells": [
  {
   "cell_type": "code",
   "execution_count": 10,
   "id": "e9e899b5",
   "metadata": {},
   "outputs": [
    {
     "name": "stdout",
     "output_type": "stream",
     "text": [
      "첫번째 문자열: Two roads diverged in a yellow wood, And sorry I could not travel both And be one traveler, long I stood And looked down one as far as I could To whereit bent in the undergrowth;\n",
      "\n",
      "reverse된 첫번째 문자열: undergrowth; the in bent whereit To could I as far as one down looked And stood I long traveler, one be And both travel not could I sorry And wood, yellow a in diverged roads Two\n",
      "\n",
      "\n",
      "두번째 문자열: Then took the other, as just as fair, And having perhaps the better claim, Because it was grassy and wanted wear; Though as for that the passing thereHad worn them really about the same,\n",
      "\n",
      "reverse된 두번째 문자열: same, the about really them worn thereHad passing the that for as Though wear; wanted and grassy was it Because claim, better the perhaps having And fair, as just as other, the took Then\n"
     ]
    }
   ],
   "source": [
    "def reverse_words(str):\n",
    "    arr = str.split(\" \")\n",
    "    rarr = []\n",
    "    for i in arr:\n",
    "        rarr.insert(0,i)\n",
    "        rarr.insert(0,\" \")\n",
    "    rarr.pop(0)\n",
    "    rstr = ''.join(rarr)\n",
    "    return rstr\n",
    "    \n",
    "def main():\n",
    "    str=\"Two roads diverged in a yellow wood, And sorry I could not travel both And \" \n",
    "    str +=\"be one traveler, long I stood And looked down one as far as I could \"\n",
    "    str +=\"To whereit bent in the undergrowth;\"\n",
    "    print(\"첫번째 문자열:\",str)\n",
    "    print()\n",
    "    rstr=reverse_words(str)\n",
    "    print(\"reverse된 첫번째 문자열:\",rstr)\n",
    "    print()\n",
    "    print()\n",
    "    \n",
    "    str2=\"Then took the other, as just as fair, And having perhaps the better claim, \"\n",
    "    str2+=\"Because it was grassy and wanted wear; Though as for that the passing there\"\n",
    "    str2+=\"Had worn them really about the same,\"\n",
    "    print(\"두번째 문자열:\",str2)\n",
    "    print()\n",
    "    rstr2=reverse_words(str2)\n",
    "    print(\"reverse된 두번째 문자열:\", rstr2)\n",
    " \n",
    "if __name__ == '__main__':\n",
    "    main()"
   ]
  }
 ],
 "metadata": {
  "kernelspec": {
   "display_name": "Python 3 (ipykernel)",
   "language": "python",
   "name": "python3"
  },
  "language_info": {
   "codemirror_mode": {
    "name": "ipython",
    "version": 3
   },
   "file_extension": ".py",
   "mimetype": "text/x-python",
   "name": "python",
   "nbconvert_exporter": "python",
   "pygments_lexer": "ipython3",
   "version": "3.9.12"
  }
 },
 "nbformat": 4,
 "nbformat_minor": 5
}
